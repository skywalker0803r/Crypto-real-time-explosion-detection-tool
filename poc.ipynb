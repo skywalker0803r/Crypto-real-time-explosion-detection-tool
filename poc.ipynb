{
 "cells": [
  {
   "cell_type": "code",
   "execution_count": 30,
   "metadata": {},
   "outputs": [],
   "source": [
    "import requests\n",
    "import time\n",
    "from binance.client import Client\n",
    "from tqdm import tqdm\n",
    "\n",
    "api_key = \"0NYt1wiiVaSZMXnpWRjKgsL4NT7rlxFLtgJ9vvSz2aEetnXD1cCjnseppfVnHsn3\"\n",
    "api_secret = \"oyM3TTlW9PaRb5tytWPYghrQpiX9xxaw3O8YfgLX1yCKL7ndcNXr7qAo96e6KqIo\"\n",
    "\n",
    "def get_ticker_at_specific_intervals(limit=300):\n",
    "    def input_symbol_return_15m_volume(symbol = \"BTCUSDT\",url = \"https://api.binance.com/api/v3/klines\",interval = \"15m\"):\n",
    "        response = requests.get(f\"{url}?symbol={symbol}&interval={interval}\")\n",
    "        data = response.json()\n",
    "        volume = data[0][7]\n",
    "        return float(volume)\n",
    "    # get all symbol and caculate 15m_volume return type list(dict())\n",
    "    url = \"https://api.binance.com/api/v3/exchangeInfo\"\n",
    "    response = requests.get(url)\n",
    "    symbol_list = []\n",
    "    if response.status_code == 200:\n",
    "        data = response.json()\n",
    "        symbols = data['symbols']\n",
    "        for symbol in symbols[:limit]:\n",
    "            base_asset = symbol['baseAsset']\n",
    "            quote_asset = symbol['quoteAsset']\n",
    "            symbol_list.append(f\"{base_asset}{quote_asset}\")\n",
    "    else:\n",
    "        pass\n",
    "    for idx,symbol_name in enumerate(symbol_list):\n",
    "        symbol_list[idx] = {'symbol':symbol_name,'quoteVolume':input_symbol_return_15m_volume(symbol = symbol_name)}\n",
    "    return symbol_list"
   ]
  },
  {
   "cell_type": "code",
   "execution_count": 31,
   "metadata": {},
   "outputs": [
    {
     "data": {
      "text/plain": [
       "[{'symbol': 'ETHBTC', 'quoteVolume': 29.60147674},\n",
       " {'symbol': 'LTCBTC', 'quoteVolume': 1.08578913},\n",
       " {'symbol': 'BNBBTC', 'quoteVolume': 1.01334018},\n",
       " {'symbol': 'NEOBTC', 'quoteVolume': 0.00597607},\n",
       " {'symbol': 'QTUMETH', 'quoteVolume': 0.0},\n",
       " {'symbol': 'EOSETH', 'quoteVolume': 0.2927777},\n",
       " {'symbol': 'SNTETH', 'quoteVolume': 1.18324502},\n",
       " {'symbol': 'BNTETH', 'quoteVolume': 0.4927681},\n",
       " {'symbol': 'BCCBTC', 'quoteVolume': 61.35815855},\n",
       " {'symbol': 'GASBTC', 'quoteVolume': 0.00109074},\n",
       " {'symbol': 'BNBETH', 'quoteVolume': 15.0079012},\n",
       " {'symbol': 'BTCUSDT', 'quoteVolume': 30453447.4071441},\n",
       " {'symbol': 'ETHUSDT', 'quoteVolume': 4402112.622691},\n",
       " {'symbol': 'HSRBTC', 'quoteVolume': 0.11382929},\n",
       " {'symbol': 'OAXETH', 'quoteVolume': 0.0378},\n",
       " {'symbol': 'DNTETH', 'quoteVolume': 0.0},\n",
       " {'symbol': 'MCOETH', 'quoteVolume': 0.81725255},\n",
       " {'symbol': 'ICNETH', 'quoteVolume': 0.0},\n",
       " {'symbol': 'MCOBTC', 'quoteVolume': 0.16079912},\n",
       " {'symbol': 'WTCBTC', 'quoteVolume': 0.0073821},\n",
       " {'symbol': 'WTCETH', 'quoteVolume': 1.54419182},\n",
       " {'symbol': 'LRCBTC', 'quoteVolume': 0.12678411},\n",
       " {'symbol': 'LRCETH', 'quoteVolume': 0.09485622},\n",
       " {'symbol': 'QTUMBTC', 'quoteVolume': 0.02215714},\n",
       " {'symbol': 'YOYOBTC', 'quoteVolume': 0.85361072},\n",
       " {'symbol': 'OMGBTC', 'quoteVolume': 0.05199298},\n",
       " {'symbol': 'OMGETH', 'quoteVolume': 0.0},\n",
       " {'symbol': 'ZRXBTC', 'quoteVolume': 0.04265497},\n",
       " {'symbol': 'ZRXETH', 'quoteVolume': 0.0},\n",
       " {'symbol': 'STRATBTC', 'quoteVolume': 9.695e-05}]"
      ]
     },
     "execution_count": 31,
     "metadata": {},
     "output_type": "execute_result"
    }
   ],
   "source": [
    "get_ticker_at_specific_intervals(limit=30)"
   ]
  },
  {
   "cell_type": "code",
   "execution_count": null,
   "metadata": {},
   "outputs": [],
   "source": []
  }
 ],
 "metadata": {
  "kernelspec": {
   "display_name": "base",
   "language": "python",
   "name": "python3"
  },
  "language_info": {
   "codemirror_mode": {
    "name": "ipython",
    "version": 3
   },
   "file_extension": ".py",
   "mimetype": "text/x-python",
   "name": "python",
   "nbconvert_exporter": "python",
   "pygments_lexer": "ipython3",
   "version": "3.9.13"
  },
  "orig_nbformat": 4,
  "vscode": {
   "interpreter": {
    "hash": "57bc2b6ce032b5f0e93daa91901b7ea38a856826ef43aa9e95b6d3999f5310df"
   }
  }
 },
 "nbformat": 4,
 "nbformat_minor": 2
}
